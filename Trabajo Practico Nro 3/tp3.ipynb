{
 "cells": [
  {
   "cell_type": "markdown",
   "metadata": {},
   "source": [
    "# TP3: Detector de SPAM\n",
    "\n",
    "Uno de los problemas más comunes en la clasificación es la detección de correos electrónicos SPAM. Uno de los primeros modelos utilizados para abordar este problema fue el clasificador de Bayes ingenuo. La detección de SPAM es un problema persistente en el mundo digital, ya que los spammers continúan adaptando sus estrategias para eludir los filtros de correo no deseado. Además del clasificador de Bayes ingenuo, se han desarrollado y utilizado una variedad de técnicas más avanzadas en la detección de SPAM, que incluyen algoritmos de aprendizaje automático, redes neuronales y métodos basados en reglas.\n",
    "\n",
    "En este trabajo práctico, utilizaremos un conjunto de datos que consta de 4601 observaciones de correos electrónicos, de los cuales 2788 son correos legítimos y 1813 son correos SPAM. Dado que el contenido de los correos electrónicos es un tipo de dato no estructurado, es necesario procesarlo de alguna manera. Para este conjunto de datos, ya se ha aplicado un procesamiento típico en el Procesamiento del Lenguaje Natural (NLP), que consiste en contar la frecuencia de palabras observadas en los correos.\n",
    "\n",
    "El procesamiento de lenguaje natural (NLP) desempeña un papel fundamental en la detección de SPAM, ya que permite analizar el contenido de los correos electrónicos y extraer características relevantes para la clasificación. Además de contar la frecuencia de palabras, se pueden utilizar técnicas más sofisticadas, como la extracción de características semánticas y el análisis de sentimientos, para mejorar la precisión de los modelos de detección de SPAM.\n",
    "\n",
    "En este proceso, se cuenta la cantidad de ocurrencias de cada palabra en los diferentes correos.\n",
    "\n",
    "![spam counter](./spam.png)\n",
    "\n",
    "Con el fin de preservar la privacidad de los mensajes, la frecuencia de palabras se encuentra normalizada. El conjunto de datos está compuesto por 54 columnas de atributos que se denominan:\n",
    "\n",
    "- `word_freq_XXXX`: Donde `XXXX` es la palabra o símbolo. Los valores son enteros que van de 0 a 20k.\n",
    "\n",
    "Además, hay una columna adicional llamada `spam`, que es 1 si el correo es SPAM o 0 si no lo es.\n",
    "\n",
    "Los clasificadores de Bayes ingenuos fueron los primeros filtros utilizados por las aplicaciones de correo electrónico, basados en este principio de palabras. La idea es que, partiendo de un dato a priori sobre la probabilidad de que un correo sea SPAM o no, ciertas palabras nos indicarán que la probabilidad a posteriori, dadas esas palabras, es más probable que el correo sea SPAM o no."
   ]
  },
  {
   "cell_type": "markdown",
   "metadata": {},
   "source": [
    "Para este trabajo práctico, se proporciona una notebook (ayuda.ipynb) con la lectura del conjunto de datos, la separación de los datos, entre otras ayudas para resolverlo.\n",
    "\n",
    "Tareas y preguntas a resolver:\n",
    "\n",
    "1. ¿Cuáles son las 10 palabras más encontradas en correos con SPAM y en correos No SPAM? ¿Hay palabras en común? ¿Algunas llaman la atención?\n",
    "2. Separe el conjunto de datos en un conjunto de entrenamiento y un conjunto de prueba (70% y 30% respectivamente).\n",
    "3. Utilizando un clasificador de Bayes ingenuo, entrene con el conjunto de entrenamiento.\n",
    "4. Utilizando un clasificador de Regresión Logística, entrene con el conjunto de entrenamiento (en este caso, normalice los datos).\n",
    "5. Calcule la matriz de confusión del conjunto de evaluación para ambos modelos. ¿Qué tipo de error comete más cada modelo? ¿Cuál de los dos tipos de error crees que es más importante para este problema?\n",
    "6. Calcule la precisión y la recuperación de ambos modelos. Para cada métrica, ¿cuál es el mejor modelo? ¿Cómo se relacionan estas métricas con los tipos de errores analizados en el punto anterior? Expanda su respuesta.\n",
    "7. Obtenga la curva ROC y el AUC (Área Bajo la Curva ROC) de ambos modelos.\n",
    "El entregable consiste en uno o más archivos de notebook ipynb con las respuestas. Aunque se da libertad para usar otros tipos de entregables, es importante incluir tanto el código de lo resuelto como las respuestas. Pueden subir el contenido o proporcionar un enlace a un 9. repositorio público (GitHub o GitLab) con el contenido. No olviden especificar los autores del TP en el entregable."
   ]
  },
  {
   "cell_type": "code",
   "execution_count": 6,
   "metadata": {},
   "outputs": [],
   "source": [
    "import pandas as pd\n",
    "from sklearn.model_selection import train_test_split"
   ]
  },
  {
   "cell_type": "markdown",
   "metadata": {},
   "source": [
    "1. ¿Cuáles son las 10 palabras más encontradas en correos con SPAM y en correos No SPAM? ¿Hay palabras en común? ¿Algunas llaman la atención?"
   ]
  },
  {
   "cell_type": "code",
   "execution_count": 7,
   "metadata": {},
   "outputs": [
    {
     "name": "stdout",
     "output_type": "stream",
     "text": [
      "       Palabra (SPAM)  Frecuencia promedio (SPAM)  Palabra (No SPAM)  \\\n",
      "0       word_freq_you                 2264.533370      word_freq_you   \n",
      "1      word_freq_your                 1380.362383   word_freq_george   \n",
      "2      word_freq_will                  549.972421       word_freq_hp   \n",
      "3      word_freq_free                  518.361831     word_freq_will   \n",
      "4       word_freq_our                  513.954220     word_freq_your   \n",
      "5       word_freq_all                  403.794815      word_freq_hpl   \n",
      "6      word_freq_mail                  350.507446       word_freq_re   \n",
      "7     word_freq_email                  319.227248      word_freq_edu   \n",
      "8  word_freq_business                  287.506895  word_freq_address   \n",
      "9    word_freq_remove                  275.404854  word_freq_meeting   \n",
      "\n",
      "   Frecuencia promedio (No SPAM)  \n",
      "0                    1270.337877  \n",
      "1                    1265.265065  \n",
      "2                     895.472023  \n",
      "3                     536.322812  \n",
      "4                     438.700861  \n",
      "5                     431.993544  \n",
      "6                     415.759684  \n",
      "7                     287.184003  \n",
      "8                     244.465208  \n",
      "9                     216.807747  \n"
     ]
    }
   ],
   "source": [
    "# Recargar el conjunto de datos desde cero\n",
    "file_path = 'C:/bimestre_1/Introduccion a la IA/intro_ia/TP3/spambase.csv'\n",
    "data = pd.read_csv(file_path)\n",
    "\n",
    "# Cargar el archivo CSV (asegúrate de tenerlo en tu directorio actual)\n",
    "file_path = 'spambase.csv'  # Cambia esto si el archivo está en otra ubicación\n",
    "data = pd.read_csv(file_path)\n",
    "\n",
    "# Separar los datos en SPAM y no SPAM\n",
    "spam_data = data[data['spam'] == 1]  # Correos SPAM\n",
    "non_spam_data = data[data['spam'] == 0]  # Correos no SPAM\n",
    "\n",
    "# Identificar las columnas que representan las frecuencias de palabras\n",
    "word_columns = [col for col in data.columns if col.startswith('word_freq_')]\n",
    "\n",
    "# Calcular las frecuencias promedio para cada grupo\n",
    "spam_word_freq = spam_data[word_columns].mean().sort_values(ascending=False)\n",
    "non_spam_word_freq = non_spam_data[word_columns].mean().sort_values(ascending=False)\n",
    "\n",
    "# Seleccionar las 10 palabras más frecuentes\n",
    "top_10_spam = spam_word_freq.head(10)\n",
    "top_10_non_spam = non_spam_word_freq.head(10)\n",
    "\n",
    "# Crear una tabla con los resultados\n",
    "result_df = pd.DataFrame({\n",
    "    \"Palabra (SPAM)\": top_10_spam.index,\n",
    "    \"Frecuencia promedio (SPAM)\": top_10_spam.values,\n",
    "    \"Palabra (No SPAM)\": top_10_non_spam.index,\n",
    "    \"Frecuencia promedio (No SPAM)\": top_10_non_spam.values\n",
    "})\n",
    "\n",
    "# Mostrar la tabla\n",
    "print(result_df)\n"
   ]
  },
  {
   "cell_type": "markdown",
   "metadata": {},
   "source": [
    "\n",
    "# ¿Hay palabras en común entre SPAM y no SPAM?\n",
    "Sí, hay palabras en común entre las listas de las 10 palabras más frecuentes en correos SPAM y no SPAM. Estas son:\n",
    "* you\n",
    "* your\n",
    "* will\n",
    "\n",
    "Aunque estas palabras aparecen en ambos casos, tienen frecuencias significativamente mayores en los correos SPAM.\n",
    "\n",
    "# ¿Algunas palabras llaman la atención?\n",
    "#### En correos SPAM:\n",
    "- Palabras como **free**, **business**, y **remove** llaman la atención porque suelen asociarse a campañas promocionales, ofertas o intentos de manipulación (por ejemplo, eliminar suscripciones falsas).\n",
    "- Palabras como **mail** y **email** también son típicas de correos de tipo SPAM, ya que buscan enfatizar la acción del envío o contacto.\n",
    "\n",
    "#### En correos no SPAM:\n",
    "- **george** y **hp** (junto con **hpl**) destacan, ya que parecen estar vinculadas a correos legítimos relacionados con nombres propios o empresas específicas.\n",
    "- **edu** también es interesante, ya que sugiere que los correos no SPAM podrían incluir mensajes académicos o educativos."
   ]
  },
  {
   "cell_type": "markdown",
   "metadata": {},
   "source": [
    " 2. Separe el conjunto de datos en un conjunto de entrenamiento y un conjunto de prueba (70% y 30% respectivamente)"
   ]
  },
  {
   "cell_type": "code",
   "execution_count": null,
   "metadata": {},
   "outputs": [
    {
     "data": {
      "text/plain": [
       "{'Tamaño del conjunto de entrenamiento': 3220,\n",
       " 'Tamaño del conjunto de prueba': 1381,\n",
       " 'Proporción de SPAM en el conjunto de entrenamiento': np.float64(39.41),\n",
       " 'Proporción de SPAM en el conjunto de prueba': np.float64(39.39)}"
      ]
     },
     "execution_count": 13,
     "metadata": {},
     "output_type": "execute_result"
    }
   ],
   "source": [
    "# Separar las características (X) y la etiqueta (y)\n",
    "X = data.drop(columns=['spam'])  # Variables predictoras\n",
    "y = data['spam']                 # Variable objetivo\n",
    "\n",
    "# Dividir el conjunto de datos en entrenamiento (70%) y prueba (30%)\n",
    "X_train, X_test, y_train, y_test = train_test_split(X, y, test_size=0.3, random_state=42, stratify=y)\n",
    "\n",
    "# Verificar las proporciones después de la división\n",
    "train_test_info = {\n",
    "    \"Tamaño del conjunto de entrenamiento\": X_train.shape[0],\n",
    "    \"Tamaño del conjunto de prueba\": X_test.shape[0],\n",
    "    \"Proporción de SPAM en el conjunto de entrenamiento\": round(y_train.mean() * 100, 2), # porcentaje y redondear a dos decimales\n",
    "    \"Proporción de SPAM en el conjunto de prueba\": round(y_test.mean() * 100, 2) # porcentaje y redondear a dos decimales\n",
    "}\n",
    "\n",
    "train_test_info"
   ]
  },
  {
   "cell_type": "markdown",
   "metadata": {},
   "source": [
    "3. Utilizando un clasificador de Bayes ingenuo, entrene con el conjunto de entrenamiento."
   ]
  },
  {
   "cell_type": "code",
   "execution_count": 14,
   "metadata": {},
   "outputs": [
    {
     "name": "stdout",
     "output_type": "stream",
     "text": [
      "Reporte de Clasificación para Bayes Ingenuo:\n",
      "              precision    recall  f1-score   support\n",
      "\n",
      "           0       0.97      0.82      0.89       837\n",
      "           1       0.77      0.96      0.86       544\n",
      "\n",
      "    accuracy                           0.87      1381\n",
      "   macro avg       0.87      0.89      0.87      1381\n",
      "weighted avg       0.89      0.87      0.87      1381\n",
      "\n"
     ]
    }
   ],
   "source": [
    "from sklearn.naive_bayes import MultinomialNB\n",
    "from sklearn.metrics import classification_report\n",
    "\n",
    "# Inicializar el clasificador de Bayes ingenuo\n",
    "nb_classifier = MultinomialNB()\n",
    "\n",
    "# Entrenar el clasificador con el conjunto de entrenamiento\n",
    "nb_classifier.fit(X_train, y_train)\n",
    "\n",
    "# Realizar predicciones en el conjunto de prueba\n",
    "y_pred = nb_classifier.predict(X_test)\n",
    "\n",
    "# Evaluar el rendimiento del modelo con un reporte de clasificación\n",
    "classification_report_nb = classification_report(y_test, y_pred)\n",
    "\n",
    "# Mostrar el reporte de clasificación\n",
    "print(\"Reporte de Clasificación para Bayes Ingenuo:\")\n",
    "print(classification_report_nb)"
   ]
  },
  {
   "cell_type": "markdown",
   "metadata": {},
   "source": [
    "4. Utilizando un clasificador de Regresión Logística, entrene con el conjunto de entrenamiento (en este caso, normalice los datos)."
   ]
  },
  {
   "cell_type": "code",
   "execution_count": 21,
   "metadata": {},
   "outputs": [
    {
     "name": "stdout",
     "output_type": "stream",
     "text": [
      "Reporte de Clasificación para Regresión Logística:\n",
      "              precision    recall  f1-score   support\n",
      "\n",
      "           0       0.92      0.95      0.93       837\n",
      "           1       0.91      0.87      0.89       544\n",
      "\n",
      "    accuracy                           0.92      1381\n",
      "   macro avg       0.92      0.91      0.91      1381\n",
      "weighted avg       0.92      0.92      0.92      1381\n",
      "\n"
     ]
    }
   ],
   "source": [
    "from sklearn.linear_model import LogisticRegression\n",
    "from sklearn.preprocessing import StandardScaler\n",
    "from sklearn.pipeline import Pipeline\n",
    "from sklearn.metrics import classification_report\n",
    "\n",
    "# Crear un pipeline para normalizar los datos y entrenar la regresión logística\n",
    "logistic_pipeline = Pipeline([\n",
    "    ('scaler', StandardScaler()),  # Normalizar los datos\n",
    "    ('logistic', LogisticRegression(random_state=42, max_iter=1000))\n",
    "])\n",
    "\n",
    "# Entrenar el clasificador con el conjunto de entrenamiento\n",
    "logistic_pipeline.fit(X_train, y_train)\n",
    "\n",
    "# Realizar predicciones en el conjunto de prueba\n",
    "y_pred_logistic = logistic_pipeline.predict(X_test)\n",
    "\n",
    "# Evaluar el rendimiento del modelo con un reporte de clasificación\n",
    "classification_report_logistic = classification_report(y_test, y_pred_logistic)\n",
    "\n",
    "# Mostrar el reporte de clasificación\n",
    "print(\"Reporte de Clasificación para Regresión Logística:\")\n",
    "print(classification_report_logistic)"
   ]
  },
  {
   "cell_type": "markdown",
   "metadata": {},
   "source": [
    "5. Calcule la matriz de confusión del conjunto de evaluación para ambos modelos. ¿Qué tipo de error comete más cada modelo? ¿Cuál de los dos tipos de error crees que es más importante para este problema?"
   ]
  },
  {
   "cell_type": "code",
   "execution_count": 22,
   "metadata": {},
   "outputs": [
    {
     "name": "stdout",
     "output_type": "stream",
     "text": [
      "Matriz de Confusión - Bayes Ingenuo:\n",
      "[[683 154]\n",
      " [ 21 523]]\n",
      "\n",
      "Matriz de Confusión - Regresión Logística:\n",
      "[[792  45]\n",
      " [ 69 475]]\n"
     ]
    }
   ],
   "source": [
    "from sklearn.metrics import confusion_matrix\n",
    "\n",
    "# Calcular la matriz de confusión para Bayes ingenuo\n",
    "y_pred_nb = nb_classifier.predict(X_test)  # Predicciones del modelo de Bayes ingenuo\n",
    "conf_matrix_nb = confusion_matrix(y_test, y_pred_nb)\n",
    "print(\"Matriz de Confusión - Bayes Ingenuo:\")\n",
    "print(conf_matrix_nb)\n",
    "\n",
    "# Calcular la matriz de confusión para Regresión Logística\n",
    "y_pred_logistic = logistic_pipeline.predict(X_test)  # Predicciones del modelo de Regresión Logística\n",
    "conf_matrix_logistic = confusion_matrix(y_test, y_pred_logistic)\n",
    "print(\"\\nMatriz de Confusión - Regresión Logística:\")\n",
    "print(conf_matrix_logistic)"
   ]
  },
  {
   "cell_type": "markdown",
   "metadata": {},
   "source": [
    "* TN (True Negatives): Correos no SPAM correctamente clasificados.\n",
    "* FP (False Positives): Correos no SPAM clasificados incorrectamente como SPAM.\n",
    "* FN (False Negatives): Correos SPAM clasificados incorrectamente como no SPAM.\n",
    "* TP (True Positives): Correos SPAM correctamente clasificados."
   ]
  },
  {
   "cell_type": "markdown",
   "metadata": {},
   "source": [
    "### ¿Qué tipo de error comete más cada modelo?\n",
    "\n",
    "#### Bayes ingenuo:\n",
    "- Tiende a cometer más **FP (Falsos Positivos)**.\n",
    "- Esto se debe a que los modelos de Bayes ingenuo asumen independencia entre las características, lo que puede llevar a clasificar erróneamente correos legítimos como SPAM en casos donde hay coincidencia parcial con patrones de SPAM.\n",
    "\n",
    "#### Regresión Logística:\n",
    "- Tiende a cometer más **FN (Falsos Negativos)**.\n",
    "- Al optimizar la probabilidad de clasificación, este modelo puede ser más conservador, evitando clasificar algo como SPAM a menos que sea muy seguro, lo que resulta en que algunos correos SPAM no sean detectados.\n",
    "---\n",
    "\n",
    "### ¿Cuál tipo de error es más importante para este problema?\n",
    "\n",
    "- **Falsos Negativos (FN)** son más críticos en este contexto:\n",
    "  - Si un correo SPAM no es detectado, puede llegar al usuario y tener consecuencias negativas (como abrir enlaces peligrosos, caer en estafas, o recibir contenido no deseado).\n",
    "  - Esto reduce significativamente la efectividad del sistema de filtrado de SPAM.\n",
    "\n",
    "Por otro lado:\n",
    "- **Falsos Positivos (FP)** también son importantes, pero el impacto es menor.\n",
    "  - Un correo legítimo puede ser recuperado de la carpeta de SPAM, mientras que un SPAM no detectado puede pasar desapercibido por el usuario."
   ]
  },
  {
   "cell_type": "markdown",
   "metadata": {},
   "source": [
    "6. Calcule la precisión y la recuperación de ambos modelos. Para cada métrica, ¿cuál es el mejor modelo? ¿Cómo se relacionan estas métricas con los tipos de errores analizados en el punto anterior? Expanda su respuesta."
   ]
  },
  {
   "cell_type": "code",
   "execution_count": 24,
   "metadata": {},
   "outputs": [
    {
     "name": "stdout",
     "output_type": "stream",
     "text": [
      "Comparación de Precisión y Recuperación:\n",
      "\n",
      "Bayes Ingenuo:\n",
      "  Precisión: 0.77\n",
      "  Recuperación: 0.96\n",
      "\n",
      "Regresión Logística:\n",
      "  Precisión: 0.91\n",
      "  Recuperación: 0.87\n"
     ]
    }
   ],
   "source": [
    "from sklearn.metrics import precision_score, recall_score\n",
    "\n",
    "# Calcular precisión y recuperación para Bayes ingenuo\n",
    "precision_nb = precision_score(y_test, y_pred_nb)\n",
    "recall_nb = recall_score(y_test, y_pred_nb)\n",
    "\n",
    "# Calcular precisión y recuperación para Regresión Logística\n",
    "precision_logistic = precision_score(y_test, y_pred_logistic)\n",
    "recall_logistic = recall_score(y_test, y_pred_logistic)\n",
    "\n",
    "# Resultados de las métricas\n",
    "metrics_comparison = {\n",
    "    \"Bayes Ingenuo\": {\n",
    "        \"Precisión\": round(precision_nb, 2),\n",
    "        \"Recuperación\": round(recall_nb, 2)\n",
    "    },\n",
    "    \"Regresión Logística\": {\n",
    "        \"Precisión\": round(precision_logistic, 2),\n",
    "        \"Recuperación\": round(recall_logistic, 2)\n",
    "    }\n",
    "}\n",
    "\n",
    "# Mostrar los resultados\n",
    "print(\"Comparación de Precisión y Recuperación:\")\n",
    "for model, metrics in metrics_comparison.items():\n",
    "    print(f\"\\n{model}:\")\n",
    "    print(f\"  Precisión: {metrics['Precisión']}\")\n",
    "    print(f\"  Recuperación: {metrics['Recuperación']}\")\n"
   ]
  },
  {
   "cell_type": "markdown",
   "metadata": {},
   "source": [
    "### ¿Cuál es el mejor modelo para cada métrica?\n",
    "\n",
    "#### **Precisión (Precision):**\n",
    "- La precisión mide qué proporción de los correos clasificados como SPAM realmente son SPAM.\n",
    "- **Mejor modelo**: Generalmente, la **Regresión Logística** tiene una mayor precisión, ya que es más conservadora y evita etiquetar correos legítimos como SPAM (menos Falsos Positivos, FP).\n",
    "\n",
    "#### **Recuperación (Recall):**\n",
    "- La recuperación mide qué proporción de los correos SPAM totales han sido correctamente identificados.\n",
    "- **Mejor modelo**: Generalmente, **Bayes ingenuo** tiene mejor recuperación, ya que es más agresivo al clasificar como SPAM, detectando una mayor cantidad de correos SPAM (menos Falsos Negativos, FN).\n",
    "\n",
    "---\n",
    "\n",
    "### **Relación con los tipos de errores (FP y FN):**\n",
    "\n",
    "#### **Precisión:**\n",
    "- Una alta precisión implica menos **Falsos Positivos (FP)**, ya que los correos legítimos tienen menos probabilidad de ser etiquetados incorrectamente como SPAM.\n",
    "- Este es el enfoque de la **Regresión Logística**, que minimiza FP, pero puede ignorar algunos correos SPAM (mayor FN).\n",
    "\n",
    "#### **Recuperación:**\n",
    "- Una alta recuperación implica menos **Falsos Negativos (FN)**, ya que se detecta una mayor cantidad de correos SPAM.\n",
    "- Este es el enfoque de **Bayes ingenuo**, que prioriza encontrar todo el SPAM posible, aunque ello implique etiquetar erróneamente algunos correos legítimos (mayor FP)."
   ]
  },
  {
   "cell_type": "markdown",
   "metadata": {},
   "source": [
    "7. Obtenga la curva ROC y el AUC (Área Bajo la Curva ROC) de ambos modelos."
   ]
  },
  {
   "cell_type": "code",
   "execution_count": 25,
   "metadata": {},
   "outputs": [
    {
     "data": {
      "image/png": "[encoded data removed]",
      "text/plain": [
       "<Figure size 1000x600 with 1 Axes>"
      ]
     },
     "metadata": {},
     "output_type": "display_data"
    },
    {
     "name": "stdout",
     "output_type": "stream",
     "text": [
      "AUC - Bayes Ingenuo: 0.89\n",
      "AUC - Regresión Logística: 0.97\n"
     ]
    }
   ],
   "source": [
    "import matplotlib.pyplot as plt\n",
    "from sklearn.metrics import roc_curve, roc_auc_score\n",
    "\n",
    "# Calcular las probabilidades predichas para ambos modelos\n",
    "y_pred_proba_nb = nb_classifier.predict_proba(X_test)[:, 1]  # Probabilidad de la clase SPAM\n",
    "y_pred_proba_logistic = logistic_pipeline.predict_proba(X_test)[:, 1]\n",
    "\n",
    "# Calcular la curva ROC y el AUC para Bayes ingenuo\n",
    "fpr_nb, tpr_nb, _ = roc_curve(y_test, y_pred_proba_nb)\n",
    "auc_nb = roc_auc_score(y_test, y_pred_proba_nb)\n",
    "\n",
    "# Calcular la curva ROC y el AUC para Regresión Logística\n",
    "fpr_logistic, tpr_logistic, _ = roc_curve(y_test, y_pred_proba_logistic)\n",
    "auc_logistic = roc_auc_score(y_test, y_pred_proba_logistic)\n",
    "\n",
    "# Graficar las curvas ROC\n",
    "plt.figure(figsize=(10, 6))\n",
    "plt.plot(fpr_nb, tpr_nb, label=f'Bayes Ingenuo (AUC = {auc_nb:.2f})', linestyle='--')\n",
    "plt.plot(fpr_logistic, tpr_logistic, label=f'Regresión Logística (AUC = {auc_logistic:.2f})', linestyle='-')\n",
    "plt.plot([0, 1], [0, 1], 'k--', label='Línea Base (AUC = 0.50)')\n",
    "\n",
    "# Configurar la gráfica\n",
    "plt.title('Curvas ROC - Bayes Ingenuo vs Regresión Logística')\n",
    "plt.xlabel('Tasa de Falsos Positivos (FPR)')\n",
    "plt.ylabel('Tasa de Verdaderos Positivos (TPR)')\n",
    "plt.legend(loc='lower right')\n",
    "plt.grid()\n",
    "plt.show()\n",
    "\n",
    "# Mostrar los resultados de AUC para ambos modelos\n",
    "print(f\"AUC - Bayes Ingenuo: {auc_nb:.2f}\")\n",
    "print(f\"AUC - Regresión Logística: {auc_logistic:.2f}\")"
   ]
  }
 ],
 "metadata": {
  "kernelspec": {
   "display_name": "Python 3",
   "language": "python",
   "name": "python3"
  },
  "language_info": {
   "codemirror_mode": {
    "name": "ipython",
    "version": 3
   },
   "file_extension": ".py",
   "mimetype": "text/x-python",
   "name": "python",
   "nbconvert_exporter": "python",
   "pygments_lexer": "ipython3",
   "version": "3.12.8"
  }
 },
 "nbformat": 4,
 "nbformat_minor": 2
}
